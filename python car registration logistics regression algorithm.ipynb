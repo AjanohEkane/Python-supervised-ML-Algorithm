{
 "cells": [
  {
   "cell_type": "code",
   "execution_count": 1,
   "id": "3032f29e",
   "metadata": {},
   "outputs": [],
   "source": [
    "import pandas as pd\n",
    "import numpy as np\n",
    "from sklearn.model_selection import train_test_split\n",
    "from sklearn.linear_model import LogisticRegression\n",
    "from sklearn.metrics import accuracy_score, confusion_matrix\n",
    "import matplotlib.pyplot as plt\n"
   ]
  },
  {
   "cell_type": "code",
   "execution_count": 2,
   "id": "b4f063cf",
   "metadata": {},
   "outputs": [],
   "source": [
    "car_data = [\n",
    "    {'Brand': 'BMW', 'Price': 4200.0, 'Body': 'sedan', 'Mileage': 277, 'EngineV': 2.0, 'Engine Type': 'Petrol', 'Registration': 'yes', 'Year': 1991, 'Model': '320'},\n",
    "    {'Brand': 'Mercedes-Benz', 'Price': 7900.0, 'Body': 'van', 'Mileage': 427, 'EngineV': 2.9, 'Engine Type': 'Diesel', 'Registration': 'yes', 'Year': 1999, 'Model': 'Sprinter 212'},\n",
    "    {'Brand': 'Mercedes-Benz', 'Price': 13300.0, 'Body': 'sedan', 'Mileage': 358, 'EngineV': 5.0, 'Engine Type': 'Gas', 'Registration': 'yes', 'Year': 2003, 'Model': 'S 500'},\n",
    "    {'Brand': 'Audi', 'Price': 23000.0, 'Body': 'crossover', 'Mileage': 240, 'EngineV': 4.2, 'Engine Type': 'Petrol', 'Registration': 'yes', 'Year': 2007, 'Model': 'Q7'},\n",
    "    {'Brand': 'Toyota', 'Price': 18300.0, 'Body': 'crossover', 'Mileage': 120, 'EngineV': 2.0, 'Engine Type': 'Petrol', 'Registration': 'yes', 'Year': 2011, 'Model': 'Rav 4'},\n",
    "    {'Brand': 'Mercedes-Benz', 'Price': 199999.0, 'Body': 'crossover', 'Mileage': 0, 'EngineV': 5.5, 'Engine Type': 'Petrol', 'Registration': 'yes', 'Year': 2016, 'Model': 'GLS 63'},\n",
    "    {'Brand': 'BMW', 'Price': 6100.0, 'Body': 'sedan', 'Mileage': 438, 'EngineV': 2.0, 'Engine Type': 'Gas', 'Registration': 'yes', 'Year': 1997, 'Model': '320'},\n",
    "    {'Brand': 'Audi', 'Price': 14200.0, 'Body': 'vagon', 'Mileage': 200, 'EngineV': 2.7, 'Engine Type': 'Diesel', 'Registration': 'yes', 'Year': 2006, 'Model': 'A6'},\n",
    "    {'Brand': 'Renault', 'Price': 10799.0, 'Body': 'vagon', 'Mileage': 193, 'EngineV': 1.5, 'Engine Type': 'Diesel', 'Registration': 'yes', 'Year': 2012, 'Model': 'Megane'},\n",
    "    {'Brand': 'Volkswagen', 'Price': 1400.0, 'Body': 'other', 'Mileage': 212, 'EngineV': 1.8, 'Engine Type': 'Gas', 'Registration': 'no', 'Year': 1999, 'Model': 'Golf IV'},\n",
    "    {'Brand': 'Renault', 'Price': 11950.0, 'Body': 'vagon', 'Mileage': 177, 'EngineV': 1.5, 'Engine Type': 'Diesel', 'Registration': 'yes', 'Year': 2011, 'Model': 'Megane'},\n",
    "    {'Brand': 'Renault', 'Price': 2500.0, 'Body': 'sedan', 'Mileage': 260, 'EngineV': 1.79, 'Engine Type': 'Petrol', 'Registration': 'yes', 'Year': 1994, 'Model': '19'},\n",
    "    {'Brand': 'Audi', 'Price': 9500.0, 'Body': 'vagon', 'Mileage': 165, 'EngineV': 2.7, 'Engine Type': 'Gas', 'Registration': 'yes', 'Year': 2003, 'Model': 'A6 Allroad'},\n",
    "    {'Brand': 'Volkswagen', 'Price': 10500.0, 'Body': 'sedan', 'Mileage': 100, 'EngineV': 1.8, 'Engine Type': 'Petrol', 'Registration': 'yes', 'Year': 2008, 'Model': 'Passat B6'},\n",
    "    {'Brand': 'Toyota', 'Price': 16000.0, 'Body': 'crossover', 'Mileage': 250, 'EngineV': 4.7, 'Engine Type': 'Gas', 'Registration': 'yes', 'Year': 2001, 'Model': 'Land Cruiser 100'},\n",
    "    {'Brand': 'Renault', 'Price': 8600.0, 'Body': 'hatch', 'Mileage': 84, 'EngineV': 1.5, 'Engine Type': 'Diesel', 'Registration': 'yes', 'Year': 2012, 'Model': 'Clio'},\n",
    "    {'Brand': 'BMW', 'Price': 2990.0, 'Body': 'other', 'Mileage': 203, 'EngineV': 2.0, 'Engine Type': 'Petrol', 'Registration': 'no', 'Year': 2001, 'Model': '318'},\n",
    "    {'Brand': 'Mercedes-Benz', 'Price': None, 'Body': 'van', 'Mileage': 240, 'EngineV': 2.2, 'Engine Type': 'Diesel', 'Registration': 'yes', 'Year': 2007, 'Model': 'Vito'},\n",
    "    {'Brand': 'Toyota', 'Price': 26500.0, 'Body': 'crossover', 'Mileage': 21, 'EngineV': 2.0, 'Engine Type': 'Petrol', 'Registration': 'yes', 'Year': 2013, 'Model': 'Rav 4'},\n",
    "    {'Brand': 'Audi', 'Price': 3500.0, 'Body': 'vagon', 'Mileage': 250, 'EngineV': 2.5, 'Engine Type': 'Diesel', 'Registration': 'no', 'Year': 1998, 'Model': 'A6'},\n",
    "    {'Brand': 'Toyota', 'Price': 38233.0, 'Body': 'other', 'Mileage': 0, 'EngineV': 2.4, 'Engine Type': 'Diesel', 'Registration': 'yes', 'Year': 2016, 'Model': 'Hilux'},\n",
    "    {'Brand': 'Volkswagen', 'Price': 7500.0, 'Body': 'hatch', 'Mileage': 132, 'EngineV': 1.4, 'Engine Type': 'Diesel', 'Registration': 'yes', 'Year': 2006, 'Model': 'Polo'},\n",
    "    {'Brand': 'Audi', 'Price': 6800.0, 'Body': 'sedan', 'Mileage': 225, 'EngineV': 2.4, 'Engine Type': 'Gas', 'Registration': 'yes', 'Year': 1998, 'Model': 'A6'},\n",
    "    {'Brand': 'Mitsubishi', 'Price': 10500.0, 'Body': 'crossover', 'Mileage': 130, 'EngineV': 2.4, 'Engine Type': 'Gas', 'Registration': 'yes', 'Year': 2006, 'Model': 'Outlander'},\n",
    "    {'Brand': 'Audi', 'Price': 24900.0, 'Body': 'sedan', 'Mileage': 163, 'EngineV': 4.2, 'Engine Type': 'Diesel', 'Registration': 'yes', 'Year': 2008, 'Model': 'A8'},\n",
    "    {'Brand': 'Volkswagen', 'Price': 20800.0, 'Body': 'crossover', 'Mileage': 151, 'EngineV': 3.0, 'Engine Type': 'Diesel', 'Registration': 'yes', 'Year': 2008, 'Model': 'Touareg'},\n",
    "    {'Brand': 'Audi', 'Price': 6500.0, 'Body': 'sedan', 'Mileage': 330, 'EngineV': 2.4, 'Engine Type': 'Petrol', 'Registration': 'yes', 'Year': 1999, 'Model': 'A6'},\n",
    "    {'Brand': 'Mercedes-Benz', 'Price': 13566.0, 'Body': 'other', 'Mileage': 171, 'EngineV': 2.2, 'Engine Type': 'Other', 'Registration': 'no', 'Year': 2011, 'Model': 'Vito'},\n",
    "    {'Brand': 'Mitsubishi', 'Price': 8500.0, 'Body': 'hatch', 'Mileage': 65, 'EngineV': 1.3, 'Engine Type': 'Petrol', 'Registration': 'yes', 'Year': 2010, 'Model': 'Colt'},\n",
    "    {'Brand': 'Mercedes-Benz', 'Price': None, 'Body': 'crossover', 'Mileage': 0, 'EngineV': 4.6, 'Engine Type': 'Petrol', 'Registration': 'yes', 'Year': 2016, 'Model': 'GLS 500'},\n",
    "    {'Brand': 'Audi', 'Price': 2900.0, 'Body': 'sedan', 'Mileage': 1, 'EngineV': 2.3, 'Engine Type': 'Gas', 'Registration': 'yes', 'Year': 1989, 'Model': '100'},\n",
    "    {'Brand': 'BMW', 'Price': 21500.0, 'Body': 'other', 'Mileage': 72, 'EngineV': 3.0, 'Engine Type': 'Petrol', 'Registration': 'yes', 'Year': 2007, 'Model': 'Z4'},\n",
    "    {'Brand': 'Mitsubishi', 'Price': 17900.0, 'Body': 'crossover', 'Mileage': 87, 'EngineV': 3.8, 'Engine Type': 'Gas', 'Registration': 'yes', 'Year': 2008, 'Model': 'Pajero Wagon'},\n",
    "    {'Brand': 'BMW', 'Price': 28500.0, 'Body': 'crossover', 'Mileage': 160, 'EngineV': 4.8, 'Engine Type': 'Gas', 'Registration': 'yes', 'Year': 2008, 'Model': 'X5'},\n",
    "    {'Brand': 'Volkswagen', 'Price': 9800.0, 'Body': 'van', 'Mileage': 160, 'EngineV': 1.9, 'Engine Type': 'Diesel', 'Registration': 'yes', 'Year': 2009, 'Model': 'Caddy'},\n",
    "    {'Brand': 'Toyota', 'Price': 14500.0, 'Body': 'sedan', 'Mileage': 147, 'EngineV': 2.4, 'Engine Type': 'Gas', 'Registration': 'yes', 'Year': 2006, 'Model': 'Camry'},\n",
    "    {'Brand': 'BMW', 'Price': 6000.0, 'Body': 'sedan', 'Mileage': 300, 'EngineV': 2.8, 'Engine Type': 'Petrol', 'Registration': 'yes', 'Year': 1996, 'Model': '528'},\n",
    "    {'Brand': 'BMW', 'Price': 67500.0, 'Body': 'crossover', 'Mileage': 1, 'EngineV': 2.5, 'Engine Type': 'Diesel', 'Registration': 'yes', 'Year': 2016, 'Model': 'X5'},\n",
    "    {'Brand': 'Audi', 'Price': 33900.0, 'Body': 'other', 'Mileage': 14, 'EngineV': 1.8, 'Engine Type': 'Petrol', 'Registration': 'yes', 'Year': 2014, 'Model': 'TT'},\n",
    "    {'Brand': 'Audi', 'Price': 2500.0, 'Body': 'sedan', 'Mileage': 180, 'EngineV': None, 'Engine Type': 'Petrol', 'Registration': 'no', 'Year': 2000, 'Model': 'A4'},\n",
    "    {'Brand': 'Mercedes-Benz', 'Price': 9800.0, 'Body': 'van', 'Mileage': 230, 'EngineV': 2.15, 'Engine Type': 'Diesel', 'Registration': 'yes', 'Year': 2004, 'Model': 'Vito'},\n",
    "    {'Brand': 'Mercedes-Benz', 'Price': 63000.0, 'Body': 'crossover', 'Mileage': 86, 'EngineV': 5.5, 'Engine Type': 'Petrol', 'Registration': 'yes', 'Year': 2009, 'Model': 'G 55 AMG'},\n",
    "    {'Brand': 'BMW', 'Price': 7700.0, 'Body': 'sedan', 'Mileage': 326, 'EngineV': 2.8, 'Engine Type': 'Petrol', 'Registration': 'yes', 'Year': 1998, 'Model': '528'},\n",
    "    {'Brand': 'Mercedes-Benz', 'Price': 9600.0, 'Body': 'van', 'Mileage': 30, 'EngineV': 2.2, 'Engine Type': 'Diesel', 'Registration': 'yes', 'Year': 2006, 'Model': 'Vito'},\n",
    "    {'Brand': 'Toyota', 'Price': 12800.0, 'Body': 'sedan', 'Mileage': 181, 'EngineV': 2.4, 'Engine Type': 'Petrol', 'Registration': 'yes', 'Year': 2008, 'Model': 'Camry'},\n",
    "    {'Brand': 'BMW', 'Price': 41000.0, 'Body': 'crossover', 'Mileage': 80, 'EngineV': 3.0, 'Engine Type': 'Petrol', 'Registration': 'yes', 'Year': 2012, 'Model': 'X6'},\n",
    "    {'Brand': 'Mitsubishi', 'Price': 2500.0, 'Body': 'sedan', 'Mileage': 220, 'EngineV': 2.4, 'Engine Type': 'Petrol', 'Registration': 'yes', 'Year': 1987, 'Model': 'Galant'},\n",
    "    {'Brand': 'BMW', 'Price': 3700.0, 'Body': 'sedan', 'Mileage': 231, 'EngineV': 2.5, 'Engine Type': 'Petrol', 'Registration': 'yes', 'Year': 1990, 'Model': '525'},\n",
    "    {'Brand': 'Mercedes-Benz', 'Price': 29500.0, 'Body': 'sedan', 'Mileage': 134, 'EngineV': 5.0, 'Engine Type': 'Petrol', 'Registration': 'yes', 'Year': 2008, 'Model': 'S 500'},\n",
    "    {'Brand': 'BMW', 'Price': 6500.0, 'Body': 'sedan', 'Mileage': 335, 'EngineV': 2.8, 'Engine Type': 'Petrol', 'Registration': 'yes', 'Year': 1996, 'Model': '528'},\n",
    "    {'Brand': 'Mercedes-Benz', 'Price': None, 'Body': 'sedan', 'Mileage': 145, 'EngineV': 3.2, 'Engine Type': 'Diesel', 'Registration': 'yes', 'Year': 2007, 'Model': 'E-Class'},\n",
    "    {'Brand': 'Renault', 'Price': 8250.0, 'Body': 'van', 'Mileage': 66, 'EngineV': 1.5, 'Engine Type': 'Diesel', 'Registration': 'yes', 'Year': 2014, 'Model': 'Kangoo'},\n",
    "    {'Brand': 'Mercedes-Benz', 'Price': 19500.0, 'Body': 'crossover', 'Mileage': 172, 'EngineV': 3.5, 'Engine Type': 'Other', 'Registration': 'yes', 'Year': 2008, 'Model': 'ML 350'},\n",
    "    {'Brand': 'Mercedes-Benz', 'Price': 13500.0, 'Body': 'sedan', 'Mileage': 317, 'EngineV': 5.0, 'Engine Type': 'Petrol', 'Registration': 'yes', 'Year': 2001, 'Model': 'S 500'},\n",
    "    {'Brand': 'Mercedes-Benz', 'Price': 9200.0, 'Body': 'van', 'Mileage': 266, 'EngineV': 2.2, 'Engine Type': 'Diesel', 'Registration': 'yes', 'Year': 2008, 'Model': 'Vito'},\n",
    "    {'Brand': 'Mercedes-Benz', 'Price': None, 'Body': 'crossover', 'Mileage': 0, 'EngineV': 3.0, 'Engine Type': 'Diesel', 'Registration': 'yes', 'Year': 2016, 'Model': 'GLS 350'},\n",
    "    {'Brand': 'Toyota', 'Price': 10900.0, 'Body': 'sedan', 'Mileage': 156, 'EngineV': None, 'Engine Type': 'Gas', 'Registration': 'yes', 'Year': 2005, 'Model': 'Camry'},\n",
    "    {'Brand': 'Volkswagen', 'Price': 5000.0, 'Body': 'vagon', 'Mileage': 265, 'EngineV': 2.0, 'Engine Type': 'Diesel', 'Registration': 'no', 'Year': 2006, 'Model': 'Passat B6'},\n",
    "    {'Brand': 'BMW', 'Price': 23900.0, 'Body': 'crossover', 'Mileage': 162, 'EngineV': 4.8, 'Engine Type': 'Petrol', 'Registration': 'yes', 'Year': 2007, 'Model': 'X5'},\n",
    "    {'Brand': 'BMW', 'Price': 36900.0, 'Body': 'sedan', 'Mileage': 81, 'EngineV': 3.0, 'Engine Type': 'Diesel', 'Registration': 'yes', 'Year': 2010, 'Model': '730'},\n",
    "    {'Brand': 'BMW', 'Price': 8900.0, 'Body': 'other', 'Mileage': 253, 'EngineV': 1.8, 'Engine Type': 'Petrol', 'Registration': 'yes', 'Year': 1995, 'Model': '318'},\n",
    "    {'Brand': 'Renault', 'Price': 7800.0, 'Body': 'van', 'Mileage': 200, 'EngineV': 1.9, 'Engine Type': 'Diesel', 'Registration': 'yes', 'Year': 2002, 'Model': 'Trafic'},\n",
    "    {'Brand': 'BMW', 'Price': 133000.0, 'Body': 'crossover', 'Mileage': 7, 'EngineV': 4.4, 'Engine Type': 'Petrol', 'Registration': 'yes', 'Year': 2015, 'Model': 'X5 M'},\n",
    "    {'Brand': 'BMW', 'Price': 1650.0, 'Body': 'sedan', 'Mileage': 270, 'EngineV': 1.8, 'Engine Type': 'Petrol', 'Registration': 'no', 'Year': 1995, 'Model': '318'},\n",
    "    {'Brand': 'Mercedes-Benz', 'Price': 50000.0, 'Body': 'sedan', 'Mileage': 240, 'EngineV': 3.5, 'Engine Type': 'Petrol', 'Registration': 'yes', 'Year': 2006, 'Model': 'S 350'},\n",
    "    {'Brand': 'Renault', 'Price': 9700.0, 'Body': 'van', 'Mileage': 245, 'EngineV': 2.0, 'Engine Type': 'Diesel', 'Registration': 'yes', 'Year': 2008, 'Model': 'Trafic'}\n",
    "]\n"
   ]
  },
  {
   "cell_type": "code",
   "execution_count": 3,
   "id": "2dce9053",
   "metadata": {},
   "outputs": [
    {
     "name": "stdout",
     "output_type": "stream",
     "text": [
      "           Brand    Price       Body  Mileage  EngineV Engine Type  \\\n",
      "0            BMW   4200.0      sedan      277      2.0      Petrol   \n",
      "1  Mercedes-Benz   7900.0        van      427      2.9      Diesel   \n",
      "2  Mercedes-Benz  13300.0      sedan      358      5.0         Gas   \n",
      "3           Audi  23000.0  crossover      240      4.2      Petrol   \n",
      "4         Toyota  18300.0  crossover      120      2.0      Petrol   \n",
      "\n",
      "  Registration  Year         Model  \n",
      "0          yes  1991           320  \n",
      "1          yes  1999  Sprinter 212  \n",
      "2          yes  2003         S 500  \n",
      "3          yes  2007            Q7  \n",
      "4          yes  2011         Rav 4  \n"
     ]
    }
   ],
   "source": [
    "# Turn array into a DataFrame\n",
    "data = pd.DataFrame(car_data)\n",
    "print(data.head())  \n"
   ]
  },
  {
   "cell_type": "code",
   "execution_count": 4,
   "id": "f10af668",
   "metadata": {},
   "outputs": [],
   "source": [
    "\n",
    "data = data.dropna(subset=['Year', 'Mileage', 'EngineV', 'Registration'])  # Drop rows with missing clues\n",
    "data['Registration'] = data['Registration'].map({'yes': 1, 'no': 0})  \n",
    "X = data[['Year', 'Mileage', 'EngineV']]  \n",
    "y = data['Registration']  \n"
   ]
  },
  {
   "cell_type": "code",
   "execution_count": 5,
   "id": "ba510ce7",
   "metadata": {},
   "outputs": [
    {
     "name": "stdout",
     "output_type": "stream",
     "text": [
      "Training set classes: [0 1]\n"
     ]
    }
   ],
   "source": [
    "X_train, X_test, y_train, y_test = train_test_split(X, y, test_size=0.2, random_state=42, stratify=y)\n",
    "print(\"Training set classes:\", np.unique(y_train)) \n"
   ]
  },
  {
   "cell_type": "code",
   "execution_count": 6,
   "id": "f0dce879",
   "metadata": {},
   "outputs": [
    {
     "data": {
      "text/html": [
       "<style>#sk-container-id-1 {color: black;background-color: white;}#sk-container-id-1 pre{padding: 0;}#sk-container-id-1 div.sk-toggleable {background-color: white;}#sk-container-id-1 label.sk-toggleable__label {cursor: pointer;display: block;width: 100%;margin-bottom: 0;padding: 0.3em;box-sizing: border-box;text-align: center;}#sk-container-id-1 label.sk-toggleable__label-arrow:before {content: \"▸\";float: left;margin-right: 0.25em;color: #696969;}#sk-container-id-1 label.sk-toggleable__label-arrow:hover:before {color: black;}#sk-container-id-1 div.sk-estimator:hover label.sk-toggleable__label-arrow:before {color: black;}#sk-container-id-1 div.sk-toggleable__content {max-height: 0;max-width: 0;overflow: hidden;text-align: left;background-color: #f0f8ff;}#sk-container-id-1 div.sk-toggleable__content pre {margin: 0.2em;color: black;border-radius: 0.25em;background-color: #f0f8ff;}#sk-container-id-1 input.sk-toggleable__control:checked~div.sk-toggleable__content {max-height: 200px;max-width: 100%;overflow: auto;}#sk-container-id-1 input.sk-toggleable__control:checked~label.sk-toggleable__label-arrow:before {content: \"▾\";}#sk-container-id-1 div.sk-estimator input.sk-toggleable__control:checked~label.sk-toggleable__label {background-color: #d4ebff;}#sk-container-id-1 div.sk-label input.sk-toggleable__control:checked~label.sk-toggleable__label {background-color: #d4ebff;}#sk-container-id-1 input.sk-hidden--visually {border: 0;clip: rect(1px 1px 1px 1px);clip: rect(1px, 1px, 1px, 1px);height: 1px;margin: -1px;overflow: hidden;padding: 0;position: absolute;width: 1px;}#sk-container-id-1 div.sk-estimator {font-family: monospace;background-color: #f0f8ff;border: 1px dotted black;border-radius: 0.25em;box-sizing: border-box;margin-bottom: 0.5em;}#sk-container-id-1 div.sk-estimator:hover {background-color: #d4ebff;}#sk-container-id-1 div.sk-parallel-item::after {content: \"\";width: 100%;border-bottom: 1px solid gray;flex-grow: 1;}#sk-container-id-1 div.sk-label:hover label.sk-toggleable__label {background-color: #d4ebff;}#sk-container-id-1 div.sk-serial::before {content: \"\";position: absolute;border-left: 1px solid gray;box-sizing: border-box;top: 0;bottom: 0;left: 50%;z-index: 0;}#sk-container-id-1 div.sk-serial {display: flex;flex-direction: column;align-items: center;background-color: white;padding-right: 0.2em;padding-left: 0.2em;position: relative;}#sk-container-id-1 div.sk-item {position: relative;z-index: 1;}#sk-container-id-1 div.sk-parallel {display: flex;align-items: stretch;justify-content: center;background-color: white;position: relative;}#sk-container-id-1 div.sk-item::before, #sk-container-id-1 div.sk-parallel-item::before {content: \"\";position: absolute;border-left: 1px solid gray;box-sizing: border-box;top: 0;bottom: 0;left: 50%;z-index: -1;}#sk-container-id-1 div.sk-parallel-item {display: flex;flex-direction: column;z-index: 1;position: relative;background-color: white;}#sk-container-id-1 div.sk-parallel-item:first-child::after {align-self: flex-end;width: 50%;}#sk-container-id-1 div.sk-parallel-item:last-child::after {align-self: flex-start;width: 50%;}#sk-container-id-1 div.sk-parallel-item:only-child::after {width: 0;}#sk-container-id-1 div.sk-dashed-wrapped {border: 1px dashed gray;margin: 0 0.4em 0.5em 0.4em;box-sizing: border-box;padding-bottom: 0.4em;background-color: white;}#sk-container-id-1 div.sk-label label {font-family: monospace;font-weight: bold;display: inline-block;line-height: 1.2em;}#sk-container-id-1 div.sk-label-container {text-align: center;}#sk-container-id-1 div.sk-container {/* jupyter's `normalize.less` sets `[hidden] { display: none; }` but bootstrap.min.css set `[hidden] { display: none !important; }` so we also need the `!important` here to be able to override the default hidden behavior on the sphinx rendered scikit-learn.org. See: https://github.com/scikit-learn/scikit-learn/issues/21755 */display: inline-block !important;position: relative;}#sk-container-id-1 div.sk-text-repr-fallback {display: none;}</style><div id=\"sk-container-id-1\" class=\"sk-top-container\"><div class=\"sk-text-repr-fallback\"><pre>LogisticRegression()</pre><b>In a Jupyter environment, please rerun this cell to show the HTML representation or trust the notebook. <br />On GitHub, the HTML representation is unable to render, please try loading this page with nbviewer.org.</b></div><div class=\"sk-container\" hidden><div class=\"sk-item\"><div class=\"sk-estimator sk-toggleable\"><input class=\"sk-toggleable__control sk-hidden--visually\" id=\"sk-estimator-id-1\" type=\"checkbox\" checked><label for=\"sk-estimator-id-1\" class=\"sk-toggleable__label sk-toggleable__label-arrow\">LogisticRegression</label><div class=\"sk-toggleable__content\"><pre>LogisticRegression()</pre></div></div></div></div></div>"
      ],
      "text/plain": [
       "LogisticRegression()"
      ]
     },
     "execution_count": 6,
     "metadata": {},
     "output_type": "execute_result"
    }
   ],
   "source": [
    "model = LogisticRegression()\n",
    "model.fit(X_train, y_train)\n"
   ]
  },
  {
   "cell_type": "code",
   "execution_count": 7,
   "id": "db2dd68e",
   "metadata": {},
   "outputs": [],
   "source": [
    "y_pred = model.predict(X_test)\n"
   ]
  },
  {
   "cell_type": "code",
   "execution_count": 8,
   "id": "55c975bd",
   "metadata": {},
   "outputs": [
    {
     "name": "stdout",
     "output_type": "stream",
     "text": [
      "Accuracy (how often we're right): 92.31%\n",
      "Confusion Matrix (right vs. wrong guesses):\n",
      "[[ 0  1]\n",
      " [ 0 12]]\n"
     ]
    }
   ],
   "source": [
    "#  See how good our Predictions  are\n",
    "accuracy = accuracy_score(y_test, y_pred)\n",
    "print(f\"Accuracy (how often we're right): {accuracy * 100:.2f}%\")\n",
    "print(\"Confusion Matrix (right vs. wrong Predictions):\")\n",
    "print(confusion_matrix(y_test, y_pred))\n"
   ]
  },
  {
   "cell_type": "code",
   "execution_count": 13,
   "id": "949d932d",
   "metadata": {},
   "outputs": [
    {
     "name": "stdout",
     "output_type": "stream",
     "text": [
      "New car (Year: 2010, Mileage: 150, EngineV: 2.0):\n",
      "Chance of being registered: 89.75%\n",
      "Prediction: Yes\n"
     ]
    }
   ],
   "source": [
    "# Display a prediction\n",
    "new_car = pd.DataFrame({'Year': [2010], 'Mileage': [150], 'EngineV': [2.0]})  # A new car\n",
    "chance = model.predict_proba(new_car)[0][1]  # Chance of \"yes\"\n",
    "Prediction = model.predict(new_car)[0]  # Yes (1) or No (0)\n",
    "print(f\"New car (Year: 2010, Mileage: 150, EngineV: 2.0):\")\n",
    "print(f\"Chance of being registered: {chance * 100:.2f}%\")\n",
    "print(f\"Prediction: {'Yes' if Prediction == 1 else 'No'}\")\n"
   ]
  },
  {
   "cell_type": "code",
   "execution_count": 14,
   "id": "e828a652",
   "metadata": {},
   "outputs": [
    {
     "data": {
      "image/png": "[encoded data removed]",
      "text/plain": [
       "<Figure size 640x480 with 1 Axes>"
      ]
     },
     "metadata": {},
     "output_type": "display_data"
    }
   ],
   "source": [
    "# Picture Illustration of results\n",
    "plt.scatter(X_test['Mileage'], y_test, color='blue', label='Real')\n",
    "plt.scatter(X_test['Mileage'], y_pred, color='red', label='Predicted', alpha=0.5)\n",
    "plt.xlabel('Mileage')\n",
    "plt.ylabel('Registered (1 = Yes, 0 = No)')\n",
    "plt.legend()\n",
    "plt.title('Real vs. Predicted Registration')\n",
    "plt.show()"
   ]
  },
  {
   "cell_type": "code",
   "execution_count": null,
   "id": "c5affa05",
   "metadata": {},
   "outputs": [],
   "source": []
  }
 ],
 "metadata": {
  "kernelspec": {
   "display_name": "Python 3 (ipykernel)",
   "language": "python",
   "name": "python3"
  },
  "language_info": {
   "codemirror_mode": {
    "name": "ipython",
    "version": 3
   },
   "file_extension": ".py",
   "mimetype": "text/x-python",
   "name": "python",
   "nbconvert_exporter": "python",
   "pygments_lexer": "ipython3",
   "version": "3.10.9"
  }
 },
 "nbformat": 4,
 "nbformat_minor": 5
}
